{
 "cells": [
  {
   "cell_type": "markdown",
   "metadata": {},
   "source": [
    "# EXERCÍCIO 01\n",
    "---\n",
    "Observe o trecho de código abaixo:\n",
    "\n",
    "int INDICE = 13, SOMA = 0, K = 0;\n",
    "\n",
    "enquanto K < INDICE faça\n",
    "\n",
    "{\n",
    "\n",
    "K = K + 1;\n",
    "\n",
    "SOMA = SOMA + K;\n",
    "\n",
    "}\n",
    "\n",
    "imprimir(SOMA);\n",
    "\n",
    "Ao final do processamento, qual será o valor da variável SOMA?"
   ]
  },
  {
   "cell_type": "code",
   "execution_count": 2,
   "metadata": {},
   "outputs": [
    {
     "name": "stdout",
     "output_type": "stream",
     "text": [
      "91\n"
     ]
    }
   ],
   "source": [
    "def adicao():\n",
    "    i = 13\n",
    "    soma = 0\n",
    "    K = 0\n",
    "\n",
    "    while  K < i:\n",
    "        K = K +1\n",
    "        soma = soma + K\n",
    "    print(soma)\n",
    "adicao() \n",
    "\n",
    "#O resultado final é 91"
   ]
  },
  {
   "cell_type": "markdown",
   "metadata": {},
   "source": [
    "# EXERCÍCIO 02\n",
    "---\n",
    "Dado a sequência de Fibonacci, onde se inicia por 0 e 1 e o próximo valor sempre será a soma dos 2 valores anteriores (exemplo: 0, 1, 1, 2, 3, 5, 8, 13, 21, 34...), escreva um programa na linguagem que desejar onde, informado um número, ele calcule a sequência de Fibonacci e retorne uma mensagem avisando se o número informado pertence ou não a sequência.\n",
    "\n",
    "\n",
    "\n",
    "IMPORTANTE:\n",
    "\n",
    "Esse número pode ser informado através de qualquer entrada de sua preferência ou pode ser previamente definido no código;\n",
    "\n"
   ]
  },
  {
   "cell_type": "code",
   "execution_count": 4,
   "metadata": {},
   "outputs": [
    {
     "name": "stdout",
     "output_type": "stream",
     "text": [
      "O número 4 não pertence à sequência de Fibonacci.\n"
     ]
    }
   ],
   "source": [
    "def verifica_fibonacci(numero):\n",
    "    n1 = 0\n",
    "    n2 = 1\n",
    "    while n2 < numero:\n",
    "        n1, n2 = n2, n1 + n2\n",
    "    if n2 == numero:\n",
    "        return True\n",
    "    else: \n",
    "        return False\n",
    "\n",
    "numero_verificar = int(input(\"Informe um número para verificar se pertence à sequência de Fibonacci: \"))\n",
    "\n",
    "if verifica_fibonacci(numero_verificar):\n",
    "\n",
    "    print(f\"O número {numero_verificar} pertence à sequência de Fibonacci.\")\n",
    "else:\n",
    "        print(f\"O número {numero_verificar} não pertence à sequência de Fibonacci.\")\n",
    "    "
   ]
  },
  {
   "cell_type": "markdown",
   "metadata": {},
   "source": [
    "EXERCÍCIO 03\n",
    "---\n",
    "3) Descubra a lógica e complete o próximo elemento:\n",
    "\n",
    "\n",
    "\n",
    "a) 1, 3, 5, 7, ___\n",
    "\n",
    "b) 2, 4, 8, 16, 32, 64, ____\n",
    "\n",
    "c) 0, 1, 4, 9, 16, 25, 36, ____\n",
    "\n",
    "d) 4, 16, 36, 64, ____\n",
    "\n",
    "e) 1, 1, 2, 3, 5, 8, ____\n",
    "\n",
    "f) 2,10, 12, 16, 17, 18, 19, ____\n"
   ]
  },
  {
   "cell_type": "markdown",
   "metadata": {},
   "source": [
    "# RESPOSTAS EXERCÍCIO 03\n",
    "---\n",
    "A) 1,3,5,7,9\n",
    "\n",
    "B) 2, 4, 8, 16, 32, 64, 128\n",
    "\n",
    "C) 0, 1, 4, 9, 16, 25, 36, 49\n",
    "\n",
    "D) 4, 16, 36, 64, 100\n",
    "\n",
    "E) 1, 1, 2, 3, 5, 8, 13\n",
    "\n",
    "F) 2,10, 12, 16, 17, 18, 19, 20\n"
   ]
  },
  {
   "cell_type": "markdown",
   "metadata": {},
   "source": [
    "# EXERCÍCIO 04\n",
    "---\n",
    "4) Você está em uma sala com três interruptores, cada um conectado a uma lâmpada em uma sala diferente. Você não pode ver as lâmpadas da sala em que está, mas pode ligar e desligar os interruptores quantas vezes quiser. Seu objetivo é descobrir qual interruptor controla qual lâmpada.\n",
    "\n",
    "Como você faria para descobrir, usando apenas duas idas até uma das salas das lâmpadas, qual interruptor controla cada lâmpada?"
   ]
  },
  {
   "cell_type": "markdown",
   "metadata": {},
   "source": [
    "# RESPOSTA EXERCÍCIO 04\n",
    "\n",
    "Primeiro:\n",
    "- eu ligarei o interruptor número 01 por alguns minutos;\n",
    "- depois desligaria o interruptor número 01 e ligaria o interruptor 02;\n",
    "\n",
    "Primeira análise e ida:\n",
    "- Se a lampada estiver acesa quer dizer que a interruptor 02 controla aquela sala\n",
    "- Porém se a lampada estivesse apagada porém quente, isso quer dizer que o interruptor número 01 controla aquela sala\n",
    "- E a última análise, caso se estivesse fria e desligada, o interruptor numero 3 estaria controlando aquela lampada\n",
    "Assim ja conseguiria saber qual interruptor controla a sala 01\n",
    "\n",
    "\n",
    "Segundo:\n",
    "Agora tenho somente dois interruptores para descobrir:\n",
    "- Ligarei o primeiro interrutor e deixarei por alguns minutos\n",
    "- depois desligarei o primeiro e ligarei o segundo\n",
    "\n",
    "Segunda análise e ida:\n",
    "- Se a lampada estiver acesa quer dizer que a interruptor 02 controla aquela sala\n",
    "- Porém se a lampada estivesse apagada porém quente, isso quer dizer que o interruptor número 01 controla aquela sala\n",
    "Assim descobrindo qual interruptor controla a sala 02 e consequentemente o que sobrasse controla a sala 03\n",
    "\n",
    "Por fim usando duas idas, e descobrindo todos os interruptores"
   ]
  },
  {
   "cell_type": "markdown",
   "metadata": {},
   "source": []
  },
  {
   "cell_type": "markdown",
   "metadata": {},
   "source": [
    "# EXERCÍCIO 05\n",
    "---\n",
    "\n",
    "5) Escreva um programa que inverta os caracteres de um string.\n",
    "\n",
    "\n",
    "IMPORTANTE:\n",
    "\n",
    "a) Essa string pode ser informada através de qualquer entrada de sua preferência ou pode ser previamente definida no código;\n",
    "\n",
    "b) Evite usar funções prontas, como, por exemplo, reverse;"
   ]
  },
  {
   "cell_type": "code",
   "execution_count": 5,
   "metadata": {},
   "outputs": [
    {
     "name": "stdout",
     "output_type": "stream",
     "text": [
      "Palavra original: abacaxi\n",
      "Palavra invertida: ixacaba\n"
     ]
    }
   ],
   "source": [
    "def string_invertida(string_normal):\n",
    "    return string_normal[::-1]\n",
    "   \n",
    "\n",
    "string_normal = \"abacaxi\"\n",
    "string_invertida = string_invertida(string_normal)\n",
    "print(\"Palavra original: {}\".format(string_normal))\n",
    "print(\"Palavra invertida: {}\".format(string_invertida))"
   ]
  }
 ],
 "metadata": {
  "kernelspec": {
   "display_name": "Python 3",
   "language": "python",
   "name": "python3"
  },
  "language_info": {
   "codemirror_mode": {
    "name": "ipython",
    "version": 3
   },
   "file_extension": ".py",
   "mimetype": "text/x-python",
   "name": "python",
   "nbconvert_exporter": "python",
   "pygments_lexer": "ipython3",
   "version": "3.10.13"
  }
 },
 "nbformat": 4,
 "nbformat_minor": 2
}
